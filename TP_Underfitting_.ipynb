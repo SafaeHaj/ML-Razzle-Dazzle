{
 "cells": [
  {
   "cell_type": "markdown",
   "metadata": {},
   "source": [
    "## Import Libraries"
   ]
  },
  {
   "cell_type": "code",
   "execution_count": 28,
   "metadata": {},
   "outputs": [],
   "source": [
    "import warnings\n",
    "warnings.filterwarnings('ignore')\n",
    "import pandas as pd\n",
    "import numpy as np\n",
    "from sklearn.datasets import load_breast_cancer, load_wine\n",
    "from sklearn.metrics import mean_absolute_error, mean_squared_error, accuracy_score, log_loss"
   ]
  },
  {
   "cell_type": "markdown",
   "metadata": {},
   "source": [
    "## Import Data"
   ]
  },
  {
   "cell_type": "code",
   "execution_count": 29,
   "metadata": {},
   "outputs": [
    {
     "data": {
      "text/plain": [
       "{0, 1}"
      ]
     },
     "execution_count": 29,
     "metadata": {},
     "output_type": "execute_result"
    }
   ],
   "source": [
    "data = load_breast_cancer()\n",
    "set(data['target'])"
   ]
  },
  {
   "cell_type": "markdown",
   "metadata": {},
   "source": [
    "## Handling the data "
   ]
  },
  {
   "cell_type": "code",
   "execution_count": 30,
   "metadata": {},
   "outputs": [
    {
     "name": "stdout",
     "output_type": "stream",
     "text": [
      "(569, 30) (569,)\n"
     ]
    }
   ],
   "source": [
    "x = pd.DataFrame(data['data'],columns=data['feature_names'])\n",
    "y = data['target']\n",
    "print (x.shape, y.shape)"
   ]
  },
  {
   "cell_type": "code",
   "execution_count": 31,
   "metadata": {},
   "outputs": [
    {
     "data": {
      "text/plain": [
       "1    357\n",
       "0    212\n",
       "Name: 0, dtype: int64"
      ]
     },
     "execution_count": 31,
     "metadata": {},
     "output_type": "execute_result"
    }
   ],
   "source": [
    "pd.DataFrame(y)[0].value_counts()"
   ]
  },
  {
   "cell_type": "markdown",
   "metadata": {},
   "source": [
    "## Split"
   ]
  },
  {
   "cell_type": "code",
   "execution_count": 32,
   "metadata": {},
   "outputs": [],
   "source": [
    "from sklearn.model_selection import train_test_split\n",
    "# Train - Test\n",
    "X, x_test, Y, y_test = train_test_split(x, y, test_size = 0.1, random_state = 0) \n",
    "# Train - Validation\n",
    "x_train, x_valid, y_train, y_valid = train_test_split(X,Y, test_size = 0.1, random_state = 0) "
   ]
  },
  {
   "cell_type": "markdown",
   "metadata": {},
   "source": [
    "# Underfitting"
   ]
  },
  {
   "cell_type": "markdown",
   "metadata": {},
   "source": [
    "#### Fit"
   ]
  },
  {
   "cell_type": "code",
   "execution_count": 33,
   "metadata": {},
   "outputs": [
    {
     "data": {
      "text/plain": [
       "LogisticRegression(max_iter=1, solver='liblinear')"
      ]
     },
     "execution_count": 33,
     "metadata": {},
     "output_type": "execute_result"
    }
   ],
   "source": [
    "from sklearn.linear_model import LogisticRegression\n",
    "# Fit\n",
    "model1 = LogisticRegression(max_iter=1, solver = 'liblinear')\n",
    "model1.fit(x_train, y_train)"
   ]
  },
  {
   "cell_type": "markdown",
   "metadata": {},
   "source": [
    "#### Prediction"
   ]
  },
  {
   "cell_type": "code",
   "execution_count": 34,
   "metadata": {},
   "outputs": [],
   "source": [
    "y_tr = model1.predict(x_train) ; y_tr_ = model1.predict_proba(x_train)\n",
    "y_pred = model1.predict(x_valid);y_pred_ = model1.predict_proba(x_valid)"
   ]
  },
  {
   "cell_type": "markdown",
   "metadata": {},
   "source": [
    "#### Evaluation"
   ]
  },
  {
   "cell_type": "code",
   "execution_count": 35,
   "metadata": {},
   "outputs": [
    {
     "name": "stdout",
     "output_type": "stream",
     "text": [
      "Train - ACC: 0.8521739130434782 \tlog_loss: 0.5119210488714548\n",
      "Train - MSE: 0.14782608695652175 \tMAE: 0.14782608695652175\n"
     ]
    }
   ],
   "source": [
    "print ('Train - ACC:',accuracy_score(y_tr, y_train),'\\tlog_loss:',log_loss(y_train, y_tr_))\n",
    "print ('Train - MSE:',mean_squared_error(y_tr, y_train),'\\tMAE:',mean_absolute_error(y_tr, y_train))"
   ]
  },
  {
   "cell_type": "code",
   "execution_count": 36,
   "metadata": {},
   "outputs": [
    {
     "name": "stdout",
     "output_type": "stream",
     "text": [
      "Valid - ACC: 0.9038461538461539 \tlog_loss: 0.47902080161576205\n",
      "Valid - MSE: 0.09615384615384616 \tMAE: 0.09615384615384616\n"
     ]
    }
   ],
   "source": [
    "print ('Valid - ACC:',accuracy_score(y_pred, y_valid),'\\tlog_loss:',log_loss(y_valid, y_pred_))\n",
    "print ('Valid - MSE:',mean_squared_error(y_pred, y_valid),'\\tMAE:',mean_absolute_error(y_pred, y_valid))"
   ]
  },
  {
   "cell_type": "markdown",
   "metadata": {},
   "source": [
    "## How to fix underfitting!"
   ]
  },
  {
   "cell_type": "markdown",
   "metadata": {},
   "source": [
    "**First Solution: Increasing Number of Iterations**"
   ]
  },
  {
   "cell_type": "code",
   "execution_count": 40,
   "metadata": {},
   "outputs": [
    {
     "name": "stdout",
     "output_type": "stream",
     "text": [
      "Train - ACC: 0.9478260869565217 \tlog_loss: 0.10454861234457294\n",
      "Train - MSE: 0.05217391304347826 \tMAE: 0.05217391304347826\n",
      "Valid - ACC: 0.9807692307692307 \tlog_loss: 0.05077851299447521\n",
      "Valid - MSE: 0.019230769230769232 \tMAE: 0.019230769230769232\n"
     ]
    }
   ],
   "source": [
    "# Fit\n",
    "# Changing the number of iterations from 1 to 100\n",
    "model1 = LogisticRegression(max_iter=100, solver = 'liblinear')\n",
    "model1.fit(x_train, y_train)\n",
    "\n",
    "#Prediction\n",
    "y_tr = model1.predict(x_train) ; y_tr_ = model1.predict_proba(x_train)\n",
    "y_pred = model1.predict(x_valid);y_pred_ = model1.predict_proba(x_valid)\n",
    "\n",
    "#Evaluation\n",
    "print ('Train - ACC:',accuracy_score(y_tr, y_train),'\\tlog_loss:',log_loss(y_train, y_tr_))\n",
    "print ('Train - MSE:',mean_squared_error(y_tr, y_train),'\\tMAE:',mean_absolute_error(y_tr, y_train))\n",
    "\n",
    "print ('Valid - ACC:',accuracy_score(y_pred, y_valid),'\\tlog_loss:',log_loss(y_valid, y_pred_))\n",
    "print ('Valid - MSE:',mean_squared_error(y_pred, y_valid),'\\tMAE:',mean_absolute_error(y_pred, y_valid))"
   ]
  },
  {
   "cell_type": "markdown",
   "metadata": {},
   "source": [
    "**Second Solution: Reducing The Number of Features**"
   ]
  },
  {
   "cell_type": "code",
   "execution_count": 41,
   "metadata": {},
   "outputs": [
    {
     "name": "stdout",
     "output_type": "stream",
     "text": [
      "(569, 30) (569,)\n",
      "(569, 15)\n",
      "Train - ACC: 0.9478260869565217 \tlog_loss: 0.10454861234457294\n",
      "Train - MSE: 0.05217391304347826 \tMAE: 0.05217391304347826\n",
      "Valid - ACC: 0.9807692307692307 \tlog_loss: 0.05077851299447521\n",
      "Valid - MSE: 0.019230769230769232 \tMAE: 0.019230769230769232\n"
     ]
    }
   ],
   "source": [
    "from sklearn.feature_selection import SelectKBest\n",
    "from sklearn.feature_selection import chi2\n",
    "\n",
    "x = pd.DataFrame(data['data'],columns=data['feature_names'])\n",
    "y = data['target']\n",
    "print (x.shape, y.shape)\n",
    "\n",
    "#reducing features by half\n",
    "x_new = SelectKBest(chi2, k=15).fit_transform(x, y)\n",
    "print(x_new.shape)\n",
    "\n",
    "# Train - Test\n",
    "X, x_test, Y, y_test = train_test_split(x_new, y, test_size = 0.1, random_state = 0) \n",
    "# Train - Validation\n",
    "x_train, x_valid, y_train, y_valid = train_test_split(X,Y, test_size = 0.1, random_state = 0) \n",
    "\n",
    "#fit\n",
    "model1 = LogisticRegression(max_iter=100, solver = 'liblinear')\n",
    "model1.fit(x_train, y_train)\n",
    "\n",
    "#Prediction\n",
    "y_tr = model1.predict(x_train) ; y_tr_ = model1.predict_proba(x_train)\n",
    "y_pred = model1.predict(x_valid);y_pred_ = model1.predict_proba(x_valid)\n",
    "\n",
    "#Evaluation\n",
    "print ('Train - ACC:',accuracy_score(y_tr, y_train),'\\tlog_loss:',log_loss(y_train, y_tr_))\n",
    "print ('Train - MSE:',mean_squared_error(y_tr, y_train),'\\tMAE:',mean_absolute_error(y_tr, y_train))\n",
    "\n",
    "print ('Valid - ACC:',accuracy_score(y_pred, y_valid),'\\tlog_loss:',log_loss(y_valid, y_pred_))\n",
    "print ('Valid - MSE:',mean_squared_error(y_pred, y_valid),'\\tMAE:',mean_absolute_error(y_pred, y_valid))\n"
   ]
  }
 ],
 "metadata": {
  "interpreter": {
   "hash": "4e0317f088b9d624bad05d83d81bb6c2c914d6225545db2fc6d5f221e8e161cc"
  },
  "kernelspec": {
   "display_name": "Python 3.8.5 ('safsuf-cs')",
   "language": "python",
   "name": "python3"
  },
  "language_info": {
   "codemirror_mode": {
    "name": "ipython",
    "version": 3
   },
   "file_extension": ".py",
   "mimetype": "text/x-python",
   "name": "python",
   "nbconvert_exporter": "python",
   "pygments_lexer": "ipython3",
   "version": "3.8.5"
  }
 },
 "nbformat": 4,
 "nbformat_minor": 2
}
